{
  "nbformat": 4,
  "nbformat_minor": 0,
  "metadata": {
    "kernelspec": {
      "display_name": "Python 3",
      "language": "python",
      "name": "python3"
    },
    "language_info": {
      "codemirror_mode": {
        "name": "ipython",
        "version": 3
      },
      "file_extension": ".py",
      "mimetype": "text/x-python",
      "name": "python",
      "nbconvert_exporter": "python",
      "pygments_lexer": "ipython3",
      "version": "3.7.10"
    },
    "colab": {
      "name": "MNIST_with_PyTorch.ipynb",
      "provenance": [],
      "include_colab_link": true
    },
    "accelerator": "GPU"
  },
  "cells": [
    {
      "cell_type": "markdown",
      "metadata": {
        "id": "view-in-github",
        "colab_type": "text"
      },
      "source": [
        "<a href=\"https://colab.research.google.com/github/jieunjeon/ml-implementation-pytorch/blob/main/pytorch_tutorial/MNIST_with_PyTorch.ipynb\" target=\"_parent\"><img src=\"https://colab.research.google.com/assets/colab-badge.svg\" alt=\"Open In Colab\"/></a>"
      ]
    },
    {
      "cell_type": "markdown",
      "metadata": {
        "id": "WhJvTMq0twsq"
      },
      "source": [
        "# 이웃집 토토치 파이토치 : Day 2 - 추가 실습\n",
        "---"
      ]
    },
    {
      "cell_type": "markdown",
      "metadata": {
        "execution": {
          "iopub.execute_input": "2021-10-01T00:50:08.920291Z",
          "iopub.status.busy": "2021-10-01T00:50:08.919297Z",
          "iopub.status.idle": "2021-10-01T00:50:08.940542Z",
          "shell.execute_reply": "2021-10-01T00:50:08.938545Z",
          "shell.execute_reply.started": "2021-10-01T00:50:08.919297Z"
        },
        "id": "gPkOOrpXtwst"
      },
      "source": [
        "<div class=\"alert alert-info\">\n",
        "    <h4>Q1</h4>\n",
        "    <p> 다음 코드는 keras를 이용한 mnist 손글씨 분류기를 학습시키는 과정을 나타내고 있다. 아래의 코드와 동등한 역할을 수행할 수 있는 코드를 pytorch를 이용하여 작성하라.</p>\n",
        "</div>"
      ]
    },
    {
      "cell_type": "markdown",
      "metadata": {
        "id": "qbiHOJgrtwst"
      },
      "source": [
        "- keras 코드"
      ]
    },
    {
      "cell_type": "code",
      "metadata": {
        "id": "cO7eUIGjtwsu"
      },
      "source": [
        "def show_hist_plot(acc, val_acc, loss, val_loss):\n",
        "    import matplotlib.pyplot as plt\n",
        "\n",
        "    fig, (loss_ax, acc_ax) = plt.subplots(1, 2, figsize=(12, 4))\n",
        "\n",
        "    loss_ax.plot(loss, 'b', label='train loss')\n",
        "    loss_ax.plot(val_loss, 'r', label='val loss')\n",
        "    loss_ax.set_xlabel('epoch')\n",
        "    loss_ax.set_ylabel('loss')\n",
        "    loss_ax.legend(loc='upper left')\n",
        "\n",
        "    acc_ax.plot(acc, 'b', label='train acc')\n",
        "    acc_ax.plot(val_acc, 'r', label='val acc')\n",
        "    acc_ax.set_ylabel('accuracy')\n",
        "    acc_ax.set_xlabel('epoch')\n",
        "    acc_ax.legend(loc='upper left')"
      ],
      "execution_count": 1,
      "outputs": []
    },
    {
      "cell_type": "code",
      "metadata": {
        "tags": [],
        "colab": {
          "base_uri": "https://localhost:8080/",
          "height": 1000
        },
        "id": "ljHWdmbqtwsv",
        "outputId": "4e3a891f-9a09-405d-df8b-7c4af751a26b"
      },
      "source": [
        "# 코드 출처 : https://keras.io/examples/vision/mnist_convnet/\n",
        "\n",
        "########################################################### \n",
        "# Setup\n",
        "###########################################################\n",
        "import numpy as np\n",
        "from tensorflow import keras\n",
        "from tensorflow.keras import layers\n",
        "\n",
        "\n",
        "########################################################### \n",
        "# Prepare the data\n",
        "###########################################################\n",
        "num_classes = 10\n",
        "input_shape = (28, 28, 1)\n",
        "\n",
        "# the data, split between train and test sets\n",
        "(x_train, y_train), (x_test, y_test) = keras.datasets.mnist.load_data()\n",
        "\n",
        "# Scale images to the [0, 1] range\n",
        "x_train = x_train.astype(\"float32\") / 255\n",
        "x_test = x_test.astype(\"float32\") / 255\n",
        "# Make sure images have shape (28, 28, 1)\n",
        "x_train = np.expand_dims(x_train, -1)\n",
        "x_test = np.expand_dims(x_test, -1)\n",
        "print(\"x_train shape:\", x_train.shape)\n",
        "print(x_train.shape[0], \"train samples\")\n",
        "print(x_test.shape[0], \"test samples\\n\")\n",
        "\n",
        "\n",
        "# convert class vectors to binary class matrices\n",
        "y_train = keras.utils.to_categorical(y_train, num_classes)\n",
        "y_test = keras.utils.to_categorical(y_test, num_classes)\n",
        "\n",
        "\n",
        "\n",
        "########################################################### \n",
        "# Build the model\n",
        "###########################################################\n",
        "model = keras.Sequential(\n",
        "    [\n",
        "        keras.Input(shape=input_shape),\n",
        "        layers.Conv2D(32, kernel_size=(3, 3), activation=\"relu\"),\n",
        "        layers.MaxPooling2D(pool_size=(2, 2)),\n",
        "        layers.Conv2D(64, kernel_size=(3, 3), activation=\"relu\"),\n",
        "        layers.MaxPooling2D(pool_size=(2, 2)),\n",
        "        layers.Flatten(),\n",
        "        layers.Dropout(0.5),\n",
        "        layers.Dense(num_classes, activation=\"softmax\"),\n",
        "    ]\n",
        ")\n",
        "\n",
        "model.summary()\n",
        "print()\n",
        "\n",
        "########################################################### \n",
        "# Train the model\n",
        "###########################################################\n",
        "batch_size = 128\n",
        "epochs = 15\n",
        "\n",
        "model.compile(loss=\"categorical_crossentropy\", optimizer=\"adam\", metrics=[\"accuracy\"])\n",
        "hist = model.fit(x_train, y_train, batch_size=batch_size, epochs=epochs, validation_split=0.1)\n",
        "show_hist_plot(hist.history['accuracy'], hist.history['val_accuracy'], \n",
        "               hist.history['loss'], hist.history['val_loss'])\n",
        "print()\n",
        "\n",
        "########################################################### \n",
        "# Evaluate the trained model\n",
        "###########################################################\n",
        "score = model.evaluate(x_test, y_test, verbose=0)\n",
        "print(\"Test loss:\", score[0])\n",
        "print(\"Test accuracy:\", score[1])"
      ],
      "execution_count": 4,
      "outputs": [
        {
          "output_type": "stream",
          "name": "stdout",
          "text": [
            "x_train shape: (60000, 28, 28, 1)\n",
            "60000 train samples\n",
            "10000 test samples\n",
            "\n",
            "Model: \"sequential_1\"\n",
            "_________________________________________________________________\n",
            "Layer (type)                 Output Shape              Param #   \n",
            "=================================================================\n",
            "conv2d_2 (Conv2D)            (None, 26, 26, 32)        320       \n",
            "_________________________________________________________________\n",
            "max_pooling2d_2 (MaxPooling2 (None, 13, 13, 32)        0         \n",
            "_________________________________________________________________\n",
            "conv2d_3 (Conv2D)            (None, 11, 11, 64)        18496     \n",
            "_________________________________________________________________\n",
            "max_pooling2d_3 (MaxPooling2 (None, 5, 5, 64)          0         \n",
            "_________________________________________________________________\n",
            "flatten_1 (Flatten)          (None, 1600)              0         \n",
            "_________________________________________________________________\n",
            "dropout_1 (Dropout)          (None, 1600)              0         \n",
            "_________________________________________________________________\n",
            "dense_1 (Dense)              (None, 10)                16010     \n",
            "=================================================================\n",
            "Total params: 34,826\n",
            "Trainable params: 34,826\n",
            "Non-trainable params: 0\n",
            "_________________________________________________________________\n",
            "\n",
            "Epoch 1/15\n",
            "422/422 [==============================] - 5s 10ms/step - loss: 0.3630 - accuracy: 0.8901 - val_loss: 0.0822 - val_accuracy: 0.9777\n",
            "Epoch 2/15\n",
            "422/422 [==============================] - 4s 9ms/step - loss: 0.1086 - accuracy: 0.9671 - val_loss: 0.0560 - val_accuracy: 0.9843\n",
            "Epoch 3/15\n",
            "422/422 [==============================] - 4s 9ms/step - loss: 0.0816 - accuracy: 0.9745 - val_loss: 0.0465 - val_accuracy: 0.9868\n",
            "Epoch 4/15\n",
            "422/422 [==============================] - 4s 9ms/step - loss: 0.0678 - accuracy: 0.9790 - val_loss: 0.0419 - val_accuracy: 0.9885\n",
            "Epoch 5/15\n",
            "422/422 [==============================] - 4s 9ms/step - loss: 0.0595 - accuracy: 0.9817 - val_loss: 0.0407 - val_accuracy: 0.9887\n",
            "Epoch 6/15\n",
            "422/422 [==============================] - 4s 9ms/step - loss: 0.0515 - accuracy: 0.9841 - val_loss: 0.0341 - val_accuracy: 0.9910\n",
            "Epoch 7/15\n",
            "422/422 [==============================] - 4s 9ms/step - loss: 0.0479 - accuracy: 0.9846 - val_loss: 0.0338 - val_accuracy: 0.9907\n",
            "Epoch 8/15\n",
            "422/422 [==============================] - 4s 9ms/step - loss: 0.0449 - accuracy: 0.9861 - val_loss: 0.0298 - val_accuracy: 0.9918\n",
            "Epoch 9/15\n",
            "422/422 [==============================] - 4s 9ms/step - loss: 0.0417 - accuracy: 0.9871 - val_loss: 0.0338 - val_accuracy: 0.9908\n",
            "Epoch 10/15\n",
            "422/422 [==============================] - 4s 9ms/step - loss: 0.0375 - accuracy: 0.9881 - val_loss: 0.0296 - val_accuracy: 0.9915\n",
            "Epoch 11/15\n",
            "422/422 [==============================] - 4s 9ms/step - loss: 0.0358 - accuracy: 0.9887 - val_loss: 0.0299 - val_accuracy: 0.9917\n",
            "Epoch 12/15\n",
            "422/422 [==============================] - 4s 9ms/step - loss: 0.0352 - accuracy: 0.9888 - val_loss: 0.0283 - val_accuracy: 0.9928\n",
            "Epoch 13/15\n",
            "422/422 [==============================] - 4s 8ms/step - loss: 0.0332 - accuracy: 0.9891 - val_loss: 0.0302 - val_accuracy: 0.9918\n",
            "Epoch 14/15\n",
            "422/422 [==============================] - 4s 9ms/step - loss: 0.0323 - accuracy: 0.9894 - val_loss: 0.0275 - val_accuracy: 0.9910\n",
            "Epoch 15/15\n",
            "422/422 [==============================] - 4s 9ms/step - loss: 0.0302 - accuracy: 0.9904 - val_loss: 0.0299 - val_accuracy: 0.9915\n",
            "\n",
            "Test loss: 0.023168228566646576\n",
            "Test accuracy: 0.9919000267982483\n"
          ]
        },
        {
          "output_type": "display_data",
          "data": {
            "image/png": "[encoded data removed]",
            "text/plain": [
              "<Figure size 864x288 with 2 Axes>"
            ]
          },
          "metadata": {
            "needs_background": "light"
          }
        }
      ]
    },
    {
      "cell_type": "markdown",
      "metadata": {
        "id": "i-V87oEZtwsw"
      },
      "source": [
        "- 여기부터 작성 해주세요"
      ]
    },
    {
      "cell_type": "code",
      "metadata": {
        "id": "-SmKFycVtwsw"
      },
      "source": [
        "########################################################### \n",
        "# Setup\n",
        "###########################################################\n",
        "import torch\n",
        "import torchvision\n",
        "device = 'cuda' if torch.cuda.is_available() else 'cpu'"
      ],
      "execution_count": 5,
      "outputs": []
    },
    {
      "cell_type": "code",
      "metadata": {
        "id": "hH9mxmKIwwAb"
      },
      "source": [
        "# Import necessary packages\n",
        "%matplotlib inline\n",
        "%config InlineBackend.figure_format = 'retina'\n",
        "\n",
        "import numpy as np\n",
        "import torch\n",
        "import torchvision\n",
        "import matplotlib.pyplot as plt\n",
        "from time import time"
      ],
      "execution_count": 6,
      "outputs": []
    },
    {
      "cell_type": "code",
      "metadata": {
        "id": "s4S4tgzItwsx"
      },
      "source": [
        "########################################################### \n",
        "# Prepare the data\n",
        "###########################################################\n",
        "from torchvision.transforms import ToTensor, Lambda\n",
        "from sklearn.model_selection import train_test_split\n",
        "import numpy as np\n",
        "\n",
        "from torchvision import datasets\n",
        "from torchvision.transforms import ToTensor\n",
        "\n",
        "train_data = datasets.MNIST(\n",
        "    root = 'data',\n",
        "    train = True,                         \n",
        "    transform = ToTensor(), \n",
        "    download = True,            \n",
        ")\n",
        "test_data = datasets.MNIST(\n",
        "    root = 'data', \n",
        "    train = False, \n",
        "    transform = ToTensor()\n",
        ")"
      ],
      "execution_count": 11,
      "outputs": []
    },
    {
      "cell_type": "code",
      "metadata": {
        "id": "YR_Z8JUgxn40",
        "outputId": "caf7340c-3cbb-4c4d-9b96-5df4896434a2",
        "colab": {
          "base_uri": "https://localhost:8080/"
        }
      },
      "source": [
        "print(train_data)\n"
      ],
      "execution_count": 12,
      "outputs": [
        {
          "output_type": "stream",
          "name": "stdout",
          "text": [
            "Dataset MNIST\n",
            "    Number of datapoints: 60000\n",
            "    Root location: data\n",
            "    Split: Train\n",
            "    StandardTransform\n",
            "Transform: ToTensor()\n"
          ]
        }
      ]
    },
    {
      "cell_type": "code",
      "metadata": {
        "id": "DTdo6jNTxpcX",
        "outputId": "91522d96-7292-49d9-a5e3-5a46f753cf68",
        "colab": {
          "base_uri": "https://localhost:8080/"
        }
      },
      "source": [
        "print(test_data)\n"
      ],
      "execution_count": 13,
      "outputs": [
        {
          "output_type": "stream",
          "name": "stdout",
          "text": [
            "Dataset MNIST\n",
            "    Number of datapoints: 10000\n",
            "    Root location: data\n",
            "    Split: Test\n",
            "    StandardTransform\n",
            "Transform: ToTensor()\n"
          ]
        }
      ]
    },
    {
      "cell_type": "code",
      "metadata": {
        "id": "m0waNGvOxrDI",
        "outputId": "583e48c3-259d-4cfb-eada-fae289ec7f88",
        "colab": {
          "base_uri": "https://localhost:8080/"
        }
      },
      "source": [
        "print(train_data.data.size())\n",
        "print(train_data.targets.size())\n"
      ],
      "execution_count": 14,
      "outputs": [
        {
          "output_type": "stream",
          "name": "stdout",
          "text": [
            "torch.Size([60000, 28, 28])\n",
            "torch.Size([60000])\n"
          ]
        }
      ]
    },
    {
      "cell_type": "code",
      "metadata": {
        "id": "PhH6ERVKxuTl",
        "outputId": "55e5b79d-5792-4078-c78c-fa8bf4f56ce8",
        "colab": {
          "base_uri": "https://localhost:8080/",
          "height": 280
        }
      },
      "source": [
        "import matplotlib.pyplot as plt\n",
        "plt.imshow(train_data.data[0], cmap='gray')\n",
        "plt.title('%i' % train_data.targets[0])\n",
        "plt.show()"
      ],
      "execution_count": 15,
      "outputs": [
        {
          "output_type": "display_data",
          "data": {
            "image/png": "[encoded data removed]",
            "text/plain": [
              "<Figure size 432x288 with 1 Axes>"
            ]
          },
          "metadata": {
            "image/png": {
              "width": 251,
              "height": 263
            },
            "needs_background": "light"
          }
        }
      ]
    },
    {
      "cell_type": "code",
      "metadata": {
        "id": "Kg-yOCWcxwWW",
        "outputId": "c1e66cfc-8f54-4da1-9d61-fd7d24c3b2b7",
        "colab": {
          "base_uri": "https://localhost:8080/",
          "height": 481
        }
      },
      "source": [
        "figure = plt.figure(figsize=(10, 8))\n",
        "cols, rows = 5, 5\n",
        "for i in range(1, cols * rows + 1):\n",
        "    sample_idx = torch.randint(len(train_data), size=(1,)).item()\n",
        "    img, label = train_data[sample_idx]\n",
        "    figure.add_subplot(rows, cols, i)\n",
        "    plt.title(label)\n",
        "    plt.axis(\"off\")\n",
        "    plt.imshow(img.squeeze(), cmap=\"gray\")\n",
        "plt.show()"
      ],
      "execution_count": 16,
      "outputs": [
        {
          "output_type": "display_data",
          "data": {
            "image/png": "[encoded data removed]",
            "text/plain": [
              "<Figure size 720x576 with 25 Axes>"
            ]
          },
          "metadata": {
            "image/png": {
              "width": 551,
              "height": 464
            },
            "needs_background": "light"
          }
        }
      ]
    },
    {
      "cell_type": "code",
      "metadata": {
        "id": "al_aOSrtxyjX",
        "outputId": "31359c47-0dda-45ac-f973-2ad68741a08d",
        "colab": {
          "base_uri": "https://localhost:8080/"
        }
      },
      "source": [
        "from torch.utils.data import DataLoader\n",
        "loaders = {\n",
        "    'train' : torch.utils.data.DataLoader(train_data, \n",
        "                                          batch_size=100, \n",
        "                                          shuffle=True, \n",
        "                                          num_workers=1),\n",
        "    \n",
        "    'test'  : torch.utils.data.DataLoader(test_data, \n",
        "                                          batch_size=100, \n",
        "                                          shuffle=True, \n",
        "                                          num_workers=1),\n",
        "}\n",
        "loaders"
      ],
      "execution_count": 17,
      "outputs": [
        {
          "output_type": "execute_result",
          "data": {
            "text/plain": [
              "{'test': <torch.utils.data.dataloader.DataLoader at 0x7fa6c041f250>,\n",
              " 'train': <torch.utils.data.dataloader.DataLoader at 0x7fa6c041fed0>}"
            ]
          },
          "metadata": {},
          "execution_count": 17
        }
      ]
    },
    {
      "cell_type": "code",
      "metadata": {
        "id": "r92072zftwsx"
      },
      "source": [
        "########################################################### \n",
        "# Build the model\n",
        "###########################################################\n",
        "\n",
        "import torch.nn as nn\n",
        "class CNN(nn.Module):\n",
        "    def __init__(self):\n",
        "        super(CNN, self).__init__()\n",
        "        self.conv1 = nn.Sequential(         \n",
        "            nn.Conv2d(\n",
        "                in_channels=1,              \n",
        "                out_channels=16,            \n",
        "                kernel_size=5,              \n",
        "                stride=1,                   \n",
        "                padding=2,                  \n",
        "            ),                              \n",
        "            nn.ReLU(),                      \n",
        "            nn.MaxPool2d(kernel_size=2),    \n",
        "        )\n",
        "        self.conv2 = nn.Sequential(         \n",
        "            nn.Conv2d(16, 32, 5, 1, 2),     \n",
        "            nn.ReLU(),                      \n",
        "            nn.MaxPool2d(2),                \n",
        "        )\n",
        "        # fully connected layer, output 10 classes\n",
        "        self.out = nn.Linear(32 * 7 * 7, 10)\n",
        "    def forward(self, x):\n",
        "        x = self.conv1(x)\n",
        "        x = self.conv2(x)\n",
        "        # flatten the output of conv2 to (batch_size, 32 * 7 * 7)\n",
        "        x = x.view(x.size(0), -1)       \n",
        "        output = self.out(x)\n",
        "        return output, x    # return x for visualization\n",
        "\n"
      ],
      "execution_count": 18,
      "outputs": []
    },
    {
      "cell_type": "code",
      "metadata": {
        "id": "eeFzlo3ux4TO",
        "outputId": "b1adf576-031b-4eb4-f0cf-572e92b13264",
        "colab": {
          "base_uri": "https://localhost:8080/"
        }
      },
      "source": [
        "cnn = CNN()\n",
        "print(cnn)"
      ],
      "execution_count": 19,
      "outputs": [
        {
          "output_type": "stream",
          "name": "stdout",
          "text": [
            "CNN(\n",
            "  (conv1): Sequential(\n",
            "    (0): Conv2d(1, 16, kernel_size=(5, 5), stride=(1, 1), padding=(2, 2))\n",
            "    (1): ReLU()\n",
            "    (2): MaxPool2d(kernel_size=2, stride=2, padding=0, dilation=1, ceil_mode=False)\n",
            "  )\n",
            "  (conv2): Sequential(\n",
            "    (0): Conv2d(16, 32, kernel_size=(5, 5), stride=(1, 1), padding=(2, 2))\n",
            "    (1): ReLU()\n",
            "    (2): MaxPool2d(kernel_size=2, stride=2, padding=0, dilation=1, ceil_mode=False)\n",
            "  )\n",
            "  (out): Linear(in_features=1568, out_features=10, bias=True)\n",
            ")\n"
          ]
        }
      ]
    },
    {
      "cell_type": "code",
      "metadata": {
        "id": "LRXsba3Cx6Bd",
        "outputId": "a854c439-de5b-488e-f26d-0c3aa277311d",
        "colab": {
          "base_uri": "https://localhost:8080/"
        }
      },
      "source": [
        "loss_func = nn.CrossEntropyLoss()   \n",
        "loss_func"
      ],
      "execution_count": 20,
      "outputs": [
        {
          "output_type": "execute_result",
          "data": {
            "text/plain": [
              "CrossEntropyLoss()"
            ]
          },
          "metadata": {},
          "execution_count": 20
        }
      ]
    },
    {
      "cell_type": "code",
      "metadata": {
        "id": "zzVeUKNex7wy",
        "outputId": "4bf2c006-7dfe-422c-b087-a222f64fb080",
        "colab": {
          "base_uri": "https://localhost:8080/"
        }
      },
      "source": [
        "from torch import optim\n",
        "optimizer = optim.Adam(cnn.parameters(), lr = 0.01)   \n",
        "optimizer"
      ],
      "execution_count": 21,
      "outputs": [
        {
          "output_type": "execute_result",
          "data": {
            "text/plain": [
              "Adam (\n",
              "Parameter Group 0\n",
              "    amsgrad: False\n",
              "    betas: (0.9, 0.999)\n",
              "    eps: 1e-08\n",
              "    lr: 0.01\n",
              "    weight_decay: 0\n",
              ")"
            ]
          },
          "metadata": {},
          "execution_count": 21
        }
      ]
    },
    {
      "cell_type": "code",
      "metadata": {
        "colab": {
          "base_uri": "https://localhost:8080/"
        },
        "id": "B6-atmXZtwsy",
        "outputId": "e3c3124e-8aff-44a9-e4b4-b64d3ec4af35"
      },
      "source": [
        "########################################################### \n",
        "# Train the model\n",
        "###########################################################\n",
        "# batch_size = 128\n",
        "# epochs = 15\n",
        "\n",
        "from torch.autograd import Variable\n",
        "num_epochs = 10\n",
        "def train(num_epochs, cnn, loaders):\n",
        "    \n",
        "    cnn.train()\n",
        "        \n",
        "    # Train the model\n",
        "    total_step = len(loaders['train'])\n",
        "        \n",
        "    for epoch in range(num_epochs):\n",
        "        for i, (images, labels) in enumerate(loaders['train']):\n",
        "            \n",
        "            # gives batch data, normalize x when iterate train_loader\n",
        "            b_x = Variable(images)   # batch x\n",
        "            b_y = Variable(labels)   # batch y\n",
        "            output = cnn(b_x)[0]               \n",
        "            loss = loss_func(output, b_y)\n",
        "            \n",
        "            # clear gradients for this training step   \n",
        "            optimizer.zero_grad()           \n",
        "            \n",
        "            # backpropagation, compute gradients \n",
        "            loss.backward()    \n",
        "            # apply gradients             \n",
        "            optimizer.step()                \n",
        "            \n",
        "            if (i+1) % 100 == 0:\n",
        "              print ('Epoch [{}/{}], Step [{}/{}], Loss: {:.4f}' \n",
        "                       .format(epoch + 1, num_epochs, i + 1, total_step, loss.item()))\n",
        "              pass\n",
        "        \n",
        "        pass\n",
        "    \n",
        "    \n",
        "    pass\n",
        "train(num_epochs, cnn, loaders)\n",
        "\n",
        "# show_hist_plot()"
      ],
      "execution_count": 24,
      "outputs": [
        {
          "output_type": "stream",
          "name": "stderr",
          "text": [
            "/usr/local/lib/python3.7/dist-packages/torch/nn/functional.py:718: UserWarning: Named tensors and all their associated APIs are an experimental feature and subject to change. Please do not use them for anything important until they are released as stable. (Triggered internally at  /pytorch/c10/core/TensorImpl.h:1156.)\n",
            "  return torch.max_pool2d(input, kernel_size, stride, padding, dilation, ceil_mode)\n"
          ]
        },
        {
          "output_type": "stream",
          "name": "stdout",
          "text": [
            "Epoch [1/10], Step [100/600], Loss: 0.1000\n",
            "Epoch [1/10], Step [200/600], Loss: 0.1109\n",
            "Epoch [1/10], Step [300/600], Loss: 0.1167\n",
            "Epoch [1/10], Step [400/600], Loss: 0.0428\n",
            "Epoch [1/10], Step [500/600], Loss: 0.0719\n",
            "Epoch [1/10], Step [600/600], Loss: 0.1228\n",
            "Epoch [2/10], Step [100/600], Loss: 0.0701\n",
            "Epoch [2/10], Step [200/600], Loss: 0.0208\n",
            "Epoch [2/10], Step [300/600], Loss: 0.0100\n",
            "Epoch [2/10], Step [400/600], Loss: 0.0190\n",
            "Epoch [2/10], Step [500/600], Loss: 0.0337\n",
            "Epoch [2/10], Step [600/600], Loss: 0.1662\n",
            "Epoch [3/10], Step [100/600], Loss: 0.1196\n",
            "Epoch [3/10], Step [200/600], Loss: 0.0319\n",
            "Epoch [3/10], Step [300/600], Loss: 0.0196\n",
            "Epoch [3/10], Step [400/600], Loss: 0.0885\n",
            "Epoch [3/10], Step [500/600], Loss: 0.0930\n",
            "Epoch [3/10], Step [600/600], Loss: 0.0403\n",
            "Epoch [4/10], Step [100/600], Loss: 0.0252\n",
            "Epoch [4/10], Step [200/600], Loss: 0.0624\n",
            "Epoch [4/10], Step [300/600], Loss: 0.1034\n",
            "Epoch [4/10], Step [400/600], Loss: 0.0530\n",
            "Epoch [4/10], Step [500/600], Loss: 0.0107\n",
            "Epoch [4/10], Step [600/600], Loss: 0.0698\n",
            "Epoch [5/10], Step [100/600], Loss: 0.0138\n",
            "Epoch [5/10], Step [200/600], Loss: 0.0995\n",
            "Epoch [5/10], Step [300/600], Loss: 0.1314\n",
            "Epoch [5/10], Step [400/600], Loss: 0.0626\n",
            "Epoch [5/10], Step [500/600], Loss: 0.0507\n",
            "Epoch [5/10], Step [600/600], Loss: 0.0424\n",
            "Epoch [6/10], Step [100/600], Loss: 0.0265\n",
            "Epoch [6/10], Step [200/600], Loss: 0.0085\n",
            "Epoch [6/10], Step [300/600], Loss: 0.0044\n",
            "Epoch [6/10], Step [400/600], Loss: 0.0183\n",
            "Epoch [6/10], Step [500/600], Loss: 0.0356\n",
            "Epoch [6/10], Step [600/600], Loss: 0.0077\n",
            "Epoch [7/10], Step [100/600], Loss: 0.0047\n",
            "Epoch [7/10], Step [200/600], Loss: 0.0113\n",
            "Epoch [7/10], Step [300/600], Loss: 0.0418\n",
            "Epoch [7/10], Step [400/600], Loss: 0.0398\n",
            "Epoch [7/10], Step [500/600], Loss: 0.0023\n",
            "Epoch [7/10], Step [600/600], Loss: 0.0264\n",
            "Epoch [8/10], Step [100/600], Loss: 0.1406\n",
            "Epoch [8/10], Step [200/600], Loss: 0.0080\n",
            "Epoch [8/10], Step [300/600], Loss: 0.0655\n",
            "Epoch [8/10], Step [400/600], Loss: 0.0034\n",
            "Epoch [8/10], Step [500/600], Loss: 0.0133\n",
            "Epoch [8/10], Step [600/600], Loss: 0.0436\n",
            "Epoch [9/10], Step [100/600], Loss: 0.0755\n",
            "Epoch [9/10], Step [200/600], Loss: 0.0171\n",
            "Epoch [9/10], Step [300/600], Loss: 0.0284\n",
            "Epoch [9/10], Step [400/600], Loss: 0.0076\n",
            "Epoch [9/10], Step [500/600], Loss: 0.0883\n",
            "Epoch [9/10], Step [600/600], Loss: 0.0511\n",
            "Epoch [10/10], Step [100/600], Loss: 0.0147\n",
            "Epoch [10/10], Step [200/600], Loss: 0.1166\n",
            "Epoch [10/10], Step [300/600], Loss: 0.0019\n",
            "Epoch [10/10], Step [400/600], Loss: 0.0306\n",
            "Epoch [10/10], Step [500/600], Loss: 0.1386\n",
            "Epoch [10/10], Step [600/600], Loss: 0.0035\n"
          ]
        }
      ]
    },
    {
      "cell_type": "code",
      "metadata": {
        "colab": {
          "base_uri": "https://localhost:8080/"
        },
        "id": "NXkERJzWtwsy",
        "outputId": "f356ac90-cdc3-4e33-d5e5-13020638456e"
      },
      "source": [
        "########################################################### \n",
        "# Evaluate the trained model\n",
        "###########################################################\n",
        "def test():\n",
        "    # Test the model\n",
        "    cnn.eval()\n",
        "    with torch.no_grad():\n",
        "        correct = 0\n",
        "        total = 0\n",
        "        for images, labels in loaders['test']:\n",
        "            test_output, last_layer = cnn(images)\n",
        "            pred_y = torch.max(test_output, 1)[1].data.squeeze()\n",
        "            accuracy = (pred_y == labels).sum().item() / float(labels.size(0))\n",
        "            pass\n",
        "        print('Test Accuracy of the model on the 10000 test images: %.2f' % accuracy)\n",
        "    \n",
        "        pass\n",
        "test()\n",
        "\n"
      ],
      "execution_count": 26,
      "outputs": [
        {
          "output_type": "stream",
          "name": "stdout",
          "text": [
            "Test Accuracy of the model on the 10000 test images: 0.96\n"
          ]
        }
      ]
    },
    {
      "cell_type": "markdown",
      "metadata": {
        "id": "V3A-aGJryMTu"
      },
      "source": [
        "## Predict"
      ]
    },
    {
      "cell_type": "code",
      "metadata": {
        "id": "69n6y-Y2yPZt"
      },
      "source": [
        "sample = next(iter(loaders['test']))\n",
        "imgs, lbls = sample"
      ],
      "execution_count": 27,
      "outputs": []
    },
    {
      "cell_type": "code",
      "metadata": {
        "id": "Tg_9kGi-yQxh",
        "outputId": "4abf582b-f14f-41f1-e62c-31ed2bf95e03",
        "colab": {
          "base_uri": "https://localhost:8080/"
        }
      },
      "source": [
        "actual_number = lbls[:10].numpy()\n",
        "actual_number"
      ],
      "execution_count": 28,
      "outputs": [
        {
          "output_type": "execute_result",
          "data": {
            "text/plain": [
              "array([8, 0, 7, 9, 1, 3, 3, 5, 3, 6])"
            ]
          },
          "metadata": {},
          "execution_count": 28
        }
      ]
    },
    {
      "cell_type": "code",
      "metadata": {
        "id": "5C1dAn-DySS6",
        "outputId": "28e3db54-41ac-4b6f-b2ce-889cad6bb422",
        "colab": {
          "base_uri": "https://localhost:8080/"
        }
      },
      "source": [
        "test_output, last_layer = cnn(imgs[:10])\n",
        "pred_y = torch.max(test_output, 1)[1].data.numpy().squeeze()\n",
        "print(f'Prediction number: {pred_y}')\n",
        "print(f'Actual number: {actual_number}')"
      ],
      "execution_count": 29,
      "outputs": [
        {
          "output_type": "stream",
          "name": "stdout",
          "text": [
            "Prediction number: [8 0 7 9 1 3 3 5 3 5]\n",
            "Actual number: [8 0 7 9 1 3 3 5 3 6]\n"
          ]
        }
      ]
    }
  ]
}