{
  "nbformat": 4,
  "nbformat_minor": 0,
  "metadata": {
    "colab": {
      "name": "day3_implement_vgg.ipynb",
      "provenance": [],
      "collapsed_sections": [],
      "include_colab_link": true
    },
    "kernelspec": {
      "display_name": "Python 3",
      "language": "python",
      "name": "python3"
    },
    "language_info": {
      "codemirror_mode": {
        "name": "ipython",
        "version": 3
      },
      "file_extension": ".py",
      "mimetype": "text/x-python",
      "name": "python",
      "nbconvert_exporter": "python",
      "pygments_lexer": "ipython3",
      "version": "3.7.10"
    },
    "accelerator": "GPU",
    "widgets": {
      "application/vnd.jupyter.widget-state+json": {
        "061f76ec262e4db5af37892e6c908bec": {
          "model_module": "@jupyter-widgets/controls",
          "model_name": "HBoxModel",
          "model_module_version": "1.5.0",
          "state": {
            "_view_name": "HBoxView",
            "_dom_classes": [],
            "_model_name": "HBoxModel",
            "_view_module": "@jupyter-widgets/controls",
            "_model_module_version": "1.5.0",
            "_view_count": null,
            "_view_module_version": "1.5.0",
            "box_style": "",
            "layout": "IPY_MODEL_616b6f7fb9494a1a952539362e9445bc",
            "_model_module": "@jupyter-widgets/controls",
            "children": [
              "IPY_MODEL_e5832148d2424a388f5d8603f570e2d4",
              "IPY_MODEL_95221f7df2554fd4899b9ed8b50caaee",
              "IPY_MODEL_92d172152cd14371b56ad80f86a1ee09"
            ]
          }
        },
        "616b6f7fb9494a1a952539362e9445bc": {
          "model_module": "@jupyter-widgets/base",
          "model_name": "LayoutModel",
          "model_module_version": "1.2.0",
          "state": {
            "_view_name": "LayoutView",
            "grid_template_rows": null,
            "right": null,
            "justify_content": null,
            "_view_module": "@jupyter-widgets/base",
            "overflow": null,
            "_model_module_version": "1.2.0",
            "_view_count": null,
            "flex_flow": null,
            "width": null,
            "min_width": null,
            "border": null,
            "align_items": null,
            "bottom": null,
            "_model_module": "@jupyter-widgets/base",
            "top": null,
            "grid_column": null,
            "overflow_y": null,
            "overflow_x": null,
            "grid_auto_flow": null,
            "grid_area": null,
            "grid_template_columns": null,
            "flex": null,
            "_model_name": "LayoutModel",
            "justify_items": null,
            "grid_row": null,
            "max_height": null,
            "align_content": null,
            "visibility": null,
            "align_self": null,
            "height": null,
            "min_height": null,
            "padding": null,
            "grid_auto_rows": null,
            "grid_gap": null,
            "max_width": null,
            "order": null,
            "_view_module_version": "1.2.0",
            "grid_template_areas": null,
            "object_position": null,
            "object_fit": null,
            "grid_auto_columns": null,
            "margin": null,
            "display": null,
            "left": null
          }
        },
        "e5832148d2424a388f5d8603f570e2d4": {
          "model_module": "@jupyter-widgets/controls",
          "model_name": "HTMLModel",
          "model_module_version": "1.5.0",
          "state": {
            "_view_name": "HTMLView",
            "style": "IPY_MODEL_ee634794659e465eabf64e163cdd80c7",
            "_dom_classes": [],
            "description": "",
            "_model_name": "HTMLModel",
            "placeholder": "​",
            "_view_module": "@jupyter-widgets/controls",
            "_model_module_version": "1.5.0",
            "value": "",
            "_view_count": null,
            "_view_module_version": "1.5.0",
            "description_tooltip": null,
            "_model_module": "@jupyter-widgets/controls",
            "layout": "IPY_MODEL_90a1080820674fed864b7226b8d9368f"
          }
        },
        "95221f7df2554fd4899b9ed8b50caaee": {
          "model_module": "@jupyter-widgets/controls",
          "model_name": "FloatProgressModel",
          "model_module_version": "1.5.0",
          "state": {
            "_view_name": "ProgressView",
            "style": "IPY_MODEL_98e89f55cf8c431c991ee7c60cb55e4c",
            "_dom_classes": [],
            "description": "",
            "_model_name": "FloatProgressModel",
            "bar_style": "success",
            "max": 170498071,
            "_view_module": "@jupyter-widgets/controls",
            "_model_module_version": "1.5.0",
            "value": 170498071,
            "_view_count": null,
            "_view_module_version": "1.5.0",
            "orientation": "horizontal",
            "min": 0,
            "description_tooltip": null,
            "_model_module": "@jupyter-widgets/controls",
            "layout": "IPY_MODEL_f3438c586c46424ebb7cd8399bb3d20d"
          }
        },
        "92d172152cd14371b56ad80f86a1ee09": {
          "model_module": "@jupyter-widgets/controls",
          "model_name": "HTMLModel",
          "model_module_version": "1.5.0",
          "state": {
            "_view_name": "HTMLView",
            "style": "IPY_MODEL_d02057af614e48a6aa6fc30769205797",
            "_dom_classes": [],
            "description": "",
            "_model_name": "HTMLModel",
            "placeholder": "​",
            "_view_module": "@jupyter-widgets/controls",
            "_model_module_version": "1.5.0",
            "value": " 170499072/? [00:06&lt;00:00, 32979167.45it/s]",
            "_view_count": null,
            "_view_module_version": "1.5.0",
            "description_tooltip": null,
            "_model_module": "@jupyter-widgets/controls",
            "layout": "IPY_MODEL_81652cced15849a8ad2453d7c03bafd0"
          }
        },
        "ee634794659e465eabf64e163cdd80c7": {
          "model_module": "@jupyter-widgets/controls",
          "model_name": "DescriptionStyleModel",
          "model_module_version": "1.5.0",
          "state": {
            "_view_name": "StyleView",
            "_model_name": "DescriptionStyleModel",
            "description_width": "",
            "_view_module": "@jupyter-widgets/base",
            "_model_module_version": "1.5.0",
            "_view_count": null,
            "_view_module_version": "1.2.0",
            "_model_module": "@jupyter-widgets/controls"
          }
        },
        "90a1080820674fed864b7226b8d9368f": {
          "model_module": "@jupyter-widgets/base",
          "model_name": "LayoutModel",
          "model_module_version": "1.2.0",
          "state": {
            "_view_name": "LayoutView",
            "grid_template_rows": null,
            "right": null,
            "justify_content": null,
            "_view_module": "@jupyter-widgets/base",
            "overflow": null,
            "_model_module_version": "1.2.0",
            "_view_count": null,
            "flex_flow": null,
            "width": null,
            "min_width": null,
            "border": null,
            "align_items": null,
            "bottom": null,
            "_model_module": "@jupyter-widgets/base",
            "top": null,
            "grid_column": null,
            "overflow_y": null,
            "overflow_x": null,
            "grid_auto_flow": null,
            "grid_area": null,
            "grid_template_columns": null,
            "flex": null,
            "_model_name": "LayoutModel",
            "justify_items": null,
            "grid_row": null,
            "max_height": null,
            "align_content": null,
            "visibility": null,
            "align_self": null,
            "height": null,
            "min_height": null,
            "padding": null,
            "grid_auto_rows": null,
            "grid_gap": null,
            "max_width": null,
            "order": null,
            "_view_module_version": "1.2.0",
            "grid_template_areas": null,
            "object_position": null,
            "object_fit": null,
            "grid_auto_columns": null,
            "margin": null,
            "display": null,
            "left": null
          }
        },
        "98e89f55cf8c431c991ee7c60cb55e4c": {
          "model_module": "@jupyter-widgets/controls",
          "model_name": "ProgressStyleModel",
          "model_module_version": "1.5.0",
          "state": {
            "_view_name": "StyleView",
            "_model_name": "ProgressStyleModel",
            "description_width": "",
            "_view_module": "@jupyter-widgets/base",
            "_model_module_version": "1.5.0",
            "_view_count": null,
            "_view_module_version": "1.2.0",
            "bar_color": null,
            "_model_module": "@jupyter-widgets/controls"
          }
        },
        "f3438c586c46424ebb7cd8399bb3d20d": {
          "model_module": "@jupyter-widgets/base",
          "model_name": "LayoutModel",
          "model_module_version": "1.2.0",
          "state": {
            "_view_name": "LayoutView",
            "grid_template_rows": null,
            "right": null,
            "justify_content": null,
            "_view_module": "@jupyter-widgets/base",
            "overflow": null,
            "_model_module_version": "1.2.0",
            "_view_count": null,
            "flex_flow": null,
            "width": null,
            "min_width": null,
            "border": null,
            "align_items": null,
            "bottom": null,
            "_model_module": "@jupyter-widgets/base",
            "top": null,
            "grid_column": null,
            "overflow_y": null,
            "overflow_x": null,
            "grid_auto_flow": null,
            "grid_area": null,
            "grid_template_columns": null,
            "flex": null,
            "_model_name": "LayoutModel",
            "justify_items": null,
            "grid_row": null,
            "max_height": null,
            "align_content": null,
            "visibility": null,
            "align_self": null,
            "height": null,
            "min_height": null,
            "padding": null,
            "grid_auto_rows": null,
            "grid_gap": null,
            "max_width": null,
            "order": null,
            "_view_module_version": "1.2.0",
            "grid_template_areas": null,
            "object_position": null,
            "object_fit": null,
            "grid_auto_columns": null,
            "margin": null,
            "display": null,
            "left": null
          }
        },
        "d02057af614e48a6aa6fc30769205797": {
          "model_module": "@jupyter-widgets/controls",
          "model_name": "DescriptionStyleModel",
          "model_module_version": "1.5.0",
          "state": {
            "_view_name": "StyleView",
            "_model_name": "DescriptionStyleModel",
            "description_width": "",
            "_view_module": "@jupyter-widgets/base",
            "_model_module_version": "1.5.0",
            "_view_count": null,
            "_view_module_version": "1.2.0",
            "_model_module": "@jupyter-widgets/controls"
          }
        },
        "81652cced15849a8ad2453d7c03bafd0": {
          "model_module": "@jupyter-widgets/base",
          "model_name": "LayoutModel",
          "model_module_version": "1.2.0",
          "state": {
            "_view_name": "LayoutView",
            "grid_template_rows": null,
            "right": null,
            "justify_content": null,
            "_view_module": "@jupyter-widgets/base",
            "overflow": null,
            "_model_module_version": "1.2.0",
            "_view_count": null,
            "flex_flow": null,
            "width": null,
            "min_width": null,
            "border": null,
            "align_items": null,
            "bottom": null,
            "_model_module": "@jupyter-widgets/base",
            "top": null,
            "grid_column": null,
            "overflow_y": null,
            "overflow_x": null,
            "grid_auto_flow": null,
            "grid_area": null,
            "grid_template_columns": null,
            "flex": null,
            "_model_name": "LayoutModel",
            "justify_items": null,
            "grid_row": null,
            "max_height": null,
            "align_content": null,
            "visibility": null,
            "align_self": null,
            "height": null,
            "min_height": null,
            "padding": null,
            "grid_auto_rows": null,
            "grid_gap": null,
            "max_width": null,
            "order": null,
            "_view_module_version": "1.2.0",
            "grid_template_areas": null,
            "object_position": null,
            "object_fit": null,
            "grid_auto_columns": null,
            "margin": null,
            "display": null,
            "left": null
          }
        }
      }
    }
  },
  "cells": [
    {
      "cell_type": "markdown",
      "metadata": {
        "id": "view-in-github",
        "colab_type": "text"
      },
      "source": [
        "<a href=\"https://colab.research.google.com/github/jieunjeon/ml-implementation-pytorch/blob/main/vgg.ipynb\" target=\"_parent\"><img src=\"https://colab.research.google.com/assets/colab-badge.svg\" alt=\"Open In Colab\"/></a>"
      ]
    },
    {
      "cell_type": "markdown",
      "metadata": {
        "id": "YZaY21mGeRfi"
      },
      "source": [
        "# 이웃집 토토치 파이토치 : Day 3\n",
        "---"
      ]
    },
    {
      "cell_type": "markdown",
      "metadata": {
        "id": "cuSAAxKLm2BY"
      },
      "source": [
        "<div class=\"alert alert-info\">\n",
        "    <p>📢 해당 게시물은 <a href=\"https://tutorials.pytorch.kr/beginner/basics/intro.html\">파이토치 기본 익히기</a>와 torchvision에서 제공하는 <a href=\"https://github.com/pytorch/vision/blob/main/torchvision/models/vgg.py\">vgg 모델</a>을 재구성하여 작성되었습니다.</p>\n",
        "</div>"
      ]
    },
    {
      "cell_type": "markdown",
      "metadata": {
        "id": "QIYwW_fdnRIV"
      },
      "source": [
        "## VGG16 작성 및 학습\n",
        "\n",
        "![](https://miro.medium.com/max/700/1*gU5m4XO2awEM6Zp4DkirFA.png)\n",
        "\n",
        "오늘은 VGG16 모델을 CIFAR-10 데이터를 학습 시켜볼 수 있는 이미지 분류기로 정의하고 이를 학습시켜 보고자 합니다.\n",
        "\n",
        "작성해야하는 분류기와 학습 환경에 대한 조건은 다음과 같습니다.\n",
        "\n",
        "- transforms : 정규화만을 진행한다.\n",
        "- 모델 구조\n",
        "    - feature [64, 64, M, 128, 128, M, 256, 256, 256, M, 512, 512, 512, M, 512, 512, 512, M] + classifier [AA, 4096, 4096, 1000]\n",
        "    - feature\n",
        "        - n(숫자) : filter의 수가 n개인 2d Conv Layer, `kernel_size=3`, `padding=1`\n",
        "        - M : Max Pooling Layer, `kernel_size=2`, `padding=2`\n",
        "        - Conv Layer 이후의 activation func는 ReLU를 사용한다.\n",
        "    - classifier\n",
        "        - AA : Adaptive Average Pooling(7x7)\n",
        "        - n(숫자) : Linear(n unit)\n",
        "- loss 함수 : CrossEntropyLoss\n",
        "- optimizer = SGD, lr = 0.005, momentum=0.9\n",
        "    - StepLR를 사용하여 5 step 마다 lr를 0.9배씩 줄이며 학습시킨다.\n",
        "- 학습 과정에서 train set과 test set에 대한 loss와 accuracy를 출력하고, 학습 종료 후 matrix의 변화를 plot으로 출력한다.\n",
        "- 학습이 완료된 모델을 `my_vgg16`이라는 이름으로 [저장](https://tutorials.pytorch.kr/beginner/basics/saveloadrun_tutorial.html)한다."
      ]
    },
    {
      "cell_type": "code",
      "metadata": {
        "id": "N3NAhZdNkof2",
        "colab": {
          "base_uri": "https://localhost:8080/"
        },
        "outputId": "f6ba39ad-065d-43c9-cacb-ae66b2019082"
      },
      "source": [
        "!pip install torchinfo"
      ],
      "execution_count": 1,
      "outputs": [
        {
          "output_type": "stream",
          "name": "stdout",
          "text": [
            "Collecting torchinfo\n",
            "  Downloading torchinfo-1.5.3-py3-none-any.whl (19 kB)\n",
            "Installing collected packages: torchinfo\n",
            "Successfully installed torchinfo-1.5.3\n"
          ]
        }
      ]
    },
    {
      "cell_type": "code",
      "metadata": {
        "id": "LQL3tOhkeYIe"
      },
      "source": [
        "import torch\n",
        "from torch import nn\n",
        "from torch.utils.data import DataLoader\n",
        "from torchvision import datasets\n",
        "from torchvision import transforms\n",
        "from torchinfo import summary\n",
        "\n",
        "device = 'cuda' if torch.cuda.is_available() else 'cpu'"
      ],
      "execution_count": 2,
      "outputs": []
    },
    {
      "cell_type": "code",
      "metadata": {
        "id": "_-vrWosOejsu"
      },
      "source": [
        "# parameters\n",
        "lr = 0.001\n",
        "epochs = 15\n",
        "batch_size = 128"
      ],
      "execution_count": 3,
      "outputs": []
    },
    {
      "cell_type": "code",
      "metadata": {
        "id": "dNMS3959enB_",
        "colab": {
          "base_uri": "https://localhost:8080/",
          "height": 104,
          "referenced_widgets": [
            "061f76ec262e4db5af37892e6c908bec",
            "616b6f7fb9494a1a952539362e9445bc",
            "e5832148d2424a388f5d8603f570e2d4",
            "95221f7df2554fd4899b9ed8b50caaee",
            "92d172152cd14371b56ad80f86a1ee09",
            "ee634794659e465eabf64e163cdd80c7",
            "90a1080820674fed864b7226b8d9368f",
            "98e89f55cf8c431c991ee7c60cb55e4c",
            "f3438c586c46424ebb7cd8399bb3d20d",
            "d02057af614e48a6aa6fc30769205797",
            "81652cced15849a8ad2453d7c03bafd0"
          ]
        },
        "outputId": "461ee0e2-b969-4e6b-d9fe-17f51806c9bb"
      },
      "source": [
        "transform = transforms.Compose([\n",
        "    transforms.ToTensor(),\n",
        "    transforms.Normalize((0.5, 0.5, 0.5), (0.5, 0.5, 0.5)),\n",
        "])\n",
        "\n",
        "train_loader = DataLoader(\n",
        "    datasets.CIFAR10(root='./data', train=True, transform=transform, download=True),\n",
        "    batch_size=batch_size, shuffle=True)\n",
        "\n",
        "val_loader = torch.utils.data.DataLoader(\n",
        "    datasets.CIFAR10(root='./data', train=False, transform=transform),\n",
        "    batch_size=batch_size, shuffle=False)"
      ],
      "execution_count": 4,
      "outputs": [
        {
          "output_type": "stream",
          "name": "stdout",
          "text": [
            "Downloading https://www.cs.toronto.edu/~kriz/cifar-10-python.tar.gz to ./data/cifar-10-python.tar.gz\n"
          ]
        },
        {
          "output_type": "display_data",
          "data": {
            "application/vnd.jupyter.widget-view+json": {
              "model_id": "061f76ec262e4db5af37892e6c908bec",
              "version_minor": 0,
              "version_major": 2
            },
            "text/plain": [
              "  0%|          | 0/170498071 [00:00<?, ?it/s]"
            ]
          },
          "metadata": {}
        },
        {
          "output_type": "stream",
          "name": "stdout",
          "text": [
            "Extracting ./data/cifar-10-python.tar.gz to ./data\n"
          ]
        }
      ]
    },
    {
      "cell_type": "code",
      "metadata": {
        "id": "5X_ifRp_e6n3"
      },
      "source": [
        "classes = ['plane', 'car', 'bird', 'cat', 'deer', 'dog', 'frog', 'horse', 'ship', 'truck']"
      ],
      "execution_count": 5,
      "outputs": []
    },
    {
      "cell_type": "code",
      "metadata": {
        "id": "41zysYalfU4Y",
        "colab": {
          "base_uri": "https://localhost:8080/"
        },
        "outputId": "d7c2cc38-d653-4a31-9151-570d3b09e15d"
      },
      "source": [
        "class VGG16(nn.Module):\n",
        "    def __init__(self, num_classes):\n",
        "        super(VGG16, self).__init__()\n",
        "        self.features = nn.Sequential(\n",
        "            nn.Conv2d(3, 64, kernel_size=3, padding=1),\n",
        "            nn.ReLU(inplace=True),\n",
        "            nn.Conv2d(64, 64, kernel_size=3, padding=1),\n",
        "            nn.ReLU(inplace=True),\n",
        "            nn.MaxPool2d(kernel_size=2, stride=2),\n",
        "            nn.Conv2d(64, 128, kernel_size=3, padding=1),\n",
        "            nn.ReLU(inplace=True),\n",
        "            nn.Conv2d(128, 128, kernel_size=3, padding=1),\n",
        "            nn.ReLU(inplace=True),\n",
        "            nn.MaxPool2d(kernel_size=2, stride=2),\n",
        "            nn.Conv2d(128, 256, kernel_size=3, padding=1),\n",
        "            nn.ReLU(inplace=True),\n",
        "            nn.Conv2d(256, 256, kernel_size=3, padding=1),\n",
        "            nn.ReLU(inplace=True),\n",
        "            nn.Conv2d(256, 256, kernel_size=3, padding=1),\n",
        "            nn.ReLU(inplace=True),\n",
        "            nn.MaxPool2d(kernel_size=2, stride=2),\n",
        "            nn.Conv2d(256, 512, kernel_size=3, padding=1),\n",
        "            nn.ReLU(inplace=True),\n",
        "            nn.Conv2d(512, 512, kernel_size=3, padding=1),\n",
        "            nn.ReLU(inplace=True),\n",
        "            nn.Conv2d(512, 512, kernel_size=3, padding=1),\n",
        "            nn.ReLU(inplace=True),\n",
        "            nn.MaxPool2d(kernel_size=2, stride=2),\n",
        "            nn.Conv2d(512, 512, kernel_size=3, padding=1),\n",
        "            nn.ReLU(inplace=True),\n",
        "            nn.Conv2d(512, 512, kernel_size=3, padding=1),\n",
        "            nn.ReLU(inplace=True),\n",
        "            nn.Conv2d(512, 512, kernel_size=3, padding=1),\n",
        "            nn.ReLU(inplace=True),\n",
        "            nn.MaxPool2d(kernel_size=2, stride=2)\n",
        "        )\n",
        "        self.avgpool = nn.AdaptiveAvgPool2d((7, 7))\n",
        "        self.classifier = nn.Sequential(\n",
        "            nn.Linear(512 * 7 * 7, 4096),\n",
        "            nn.ReLU(inplace=True),\n",
        "            nn.Dropout(),\n",
        "            nn.Linear(4096, 4096),\n",
        "            nn.ReLU(inplace=True),\n",
        "            nn.Dropout(),\n",
        "            nn.Linear(4096, num_classes),\n",
        "        )\n",
        "\n",
        "    def forward(self, x):\n",
        "        x = self.features(x)\n",
        "        x = self.avgpool(x)\n",
        "        x = torch.flatten(x, 1)\n",
        "        x = self.classifier(x)\n",
        "        return x\n",
        "        \n",
        "vgg16 = VGG16(10).to(device)\n",
        "summary(vgg16, input_size=(64, 3, 32, 32))"
      ],
      "execution_count": 6,
      "outputs": [
        {
          "output_type": "stream",
          "name": "stderr",
          "text": [
            "/usr/local/lib/python3.7/dist-packages/torch/nn/functional.py:718: UserWarning: Named tensors and all their associated APIs are an experimental feature and subject to change. Please do not use them for anything important until they are released as stable. (Triggered internally at  /pytorch/c10/core/TensorImpl.h:1156.)\n",
            "  return torch.max_pool2d(input, kernel_size, stride, padding, dilation, ceil_mode)\n"
          ]
        },
        {
          "output_type": "execute_result",
          "data": {
            "text/plain": [
              "==========================================================================================\n",
              "Layer (type:depth-idx)                   Output Shape              Param #\n",
              "==========================================================================================\n",
              "VGG16                                    --                        --\n",
              "├─Sequential: 1-1                        [64, 512, 1, 1]           --\n",
              "│    └─Conv2d: 2-1                       [64, 64, 32, 32]          1,792\n",
              "│    └─ReLU: 2-2                         [64, 64, 32, 32]          --\n",
              "│    └─Conv2d: 2-3                       [64, 64, 32, 32]          36,928\n",
              "│    └─ReLU: 2-4                         [64, 64, 32, 32]          --\n",
              "│    └─MaxPool2d: 2-5                    [64, 64, 16, 16]          --\n",
              "│    └─Conv2d: 2-6                       [64, 128, 16, 16]         73,856\n",
              "│    └─ReLU: 2-7                         [64, 128, 16, 16]         --\n",
              "│    └─Conv2d: 2-8                       [64, 128, 16, 16]         147,584\n",
              "│    └─ReLU: 2-9                         [64, 128, 16, 16]         --\n",
              "│    └─MaxPool2d: 2-10                   [64, 128, 8, 8]           --\n",
              "│    └─Conv2d: 2-11                      [64, 256, 8, 8]           295,168\n",
              "│    └─ReLU: 2-12                        [64, 256, 8, 8]           --\n",
              "│    └─Conv2d: 2-13                      [64, 256, 8, 8]           590,080\n",
              "│    └─ReLU: 2-14                        [64, 256, 8, 8]           --\n",
              "│    └─Conv2d: 2-15                      [64, 256, 8, 8]           590,080\n",
              "│    └─ReLU: 2-16                        [64, 256, 8, 8]           --\n",
              "│    └─MaxPool2d: 2-17                   [64, 256, 4, 4]           --\n",
              "│    └─Conv2d: 2-18                      [64, 512, 4, 4]           1,180,160\n",
              "│    └─ReLU: 2-19                        [64, 512, 4, 4]           --\n",
              "│    └─Conv2d: 2-20                      [64, 512, 4, 4]           2,359,808\n",
              "│    └─ReLU: 2-21                        [64, 512, 4, 4]           --\n",
              "│    └─Conv2d: 2-22                      [64, 512, 4, 4]           2,359,808\n",
              "│    └─ReLU: 2-23                        [64, 512, 4, 4]           --\n",
              "│    └─MaxPool2d: 2-24                   [64, 512, 2, 2]           --\n",
              "│    └─Conv2d: 2-25                      [64, 512, 2, 2]           2,359,808\n",
              "│    └─ReLU: 2-26                        [64, 512, 2, 2]           --\n",
              "│    └─Conv2d: 2-27                      [64, 512, 2, 2]           2,359,808\n",
              "│    └─ReLU: 2-28                        [64, 512, 2, 2]           --\n",
              "│    └─Conv2d: 2-29                      [64, 512, 2, 2]           2,359,808\n",
              "│    └─ReLU: 2-30                        [64, 512, 2, 2]           --\n",
              "│    └─MaxPool2d: 2-31                   [64, 512, 1, 1]           --\n",
              "├─AdaptiveAvgPool2d: 1-2                 [64, 512, 7, 7]           --\n",
              "├─Sequential: 1-3                        [64, 10]                  --\n",
              "│    └─Linear: 2-32                      [64, 4096]                102,764,544\n",
              "│    └─ReLU: 2-33                        [64, 4096]                --\n",
              "│    └─Dropout: 2-34                     [64, 4096]                --\n",
              "│    └─Linear: 2-35                      [64, 4096]                16,781,312\n",
              "│    └─ReLU: 2-36                        [64, 4096]                --\n",
              "│    └─Dropout: 2-37                     [64, 4096]                --\n",
              "│    └─Linear: 2-38                      [64, 10]                  40,970\n",
              "==========================================================================================\n",
              "Total params: 134,301,514\n",
              "Trainable params: 134,301,514\n",
              "Non-trainable params: 0\n",
              "Total mult-adds (G): 27.72\n",
              "==========================================================================================\n",
              "Input size (MB): 0.79\n",
              "Forward/backward pass size (MB): 145.76\n",
              "Params size (MB): 537.21\n",
              "Estimated Total Size (MB): 683.75\n",
              "=========================================================================================="
            ]
          },
          "metadata": {},
          "execution_count": 6
        }
      ]
    },
    {
      "cell_type": "code",
      "metadata": {
        "colab": {
          "base_uri": "https://localhost:8080/"
        },
        "id": "Z8nLNKb59Z0K",
        "outputId": "5c8d00b9-f827-4981-a95f-a941076128d6"
      },
      "source": [
        "summary(vgg16, input_size=(64, 3, 32, 32))\n"
      ],
      "execution_count": 7,
      "outputs": [
        {
          "output_type": "execute_result",
          "data": {
            "text/plain": [
              "==========================================================================================\n",
              "Layer (type:depth-idx)                   Output Shape              Param #\n",
              "==========================================================================================\n",
              "VGG16                                    --                        --\n",
              "├─Sequential: 1-1                        [64, 512, 1, 1]           --\n",
              "│    └─Conv2d: 2-1                       [64, 64, 32, 32]          1,792\n",
              "│    └─ReLU: 2-2                         [64, 64, 32, 32]          --\n",
              "│    └─Conv2d: 2-3                       [64, 64, 32, 32]          36,928\n",
              "│    └─ReLU: 2-4                         [64, 64, 32, 32]          --\n",
              "│    └─MaxPool2d: 2-5                    [64, 64, 16, 16]          --\n",
              "│    └─Conv2d: 2-6                       [64, 128, 16, 16]         73,856\n",
              "│    └─ReLU: 2-7                         [64, 128, 16, 16]         --\n",
              "│    └─Conv2d: 2-8                       [64, 128, 16, 16]         147,584\n",
              "│    └─ReLU: 2-9                         [64, 128, 16, 16]         --\n",
              "│    └─MaxPool2d: 2-10                   [64, 128, 8, 8]           --\n",
              "│    └─Conv2d: 2-11                      [64, 256, 8, 8]           295,168\n",
              "│    └─ReLU: 2-12                        [64, 256, 8, 8]           --\n",
              "│    └─Conv2d: 2-13                      [64, 256, 8, 8]           590,080\n",
              "│    └─ReLU: 2-14                        [64, 256, 8, 8]           --\n",
              "│    └─Conv2d: 2-15                      [64, 256, 8, 8]           590,080\n",
              "│    └─ReLU: 2-16                        [64, 256, 8, 8]           --\n",
              "│    └─MaxPool2d: 2-17                   [64, 256, 4, 4]           --\n",
              "│    └─Conv2d: 2-18                      [64, 512, 4, 4]           1,180,160\n",
              "│    └─ReLU: 2-19                        [64, 512, 4, 4]           --\n",
              "│    └─Conv2d: 2-20                      [64, 512, 4, 4]           2,359,808\n",
              "│    └─ReLU: 2-21                        [64, 512, 4, 4]           --\n",
              "│    └─Conv2d: 2-22                      [64, 512, 4, 4]           2,359,808\n",
              "│    └─ReLU: 2-23                        [64, 512, 4, 4]           --\n",
              "│    └─MaxPool2d: 2-24                   [64, 512, 2, 2]           --\n",
              "│    └─Conv2d: 2-25                      [64, 512, 2, 2]           2,359,808\n",
              "│    └─ReLU: 2-26                        [64, 512, 2, 2]           --\n",
              "│    └─Conv2d: 2-27                      [64, 512, 2, 2]           2,359,808\n",
              "│    └─ReLU: 2-28                        [64, 512, 2, 2]           --\n",
              "│    └─Conv2d: 2-29                      [64, 512, 2, 2]           2,359,808\n",
              "│    └─ReLU: 2-30                        [64, 512, 2, 2]           --\n",
              "│    └─MaxPool2d: 2-31                   [64, 512, 1, 1]           --\n",
              "├─AdaptiveAvgPool2d: 1-2                 [64, 512, 7, 7]           --\n",
              "├─Sequential: 1-3                        [64, 10]                  --\n",
              "│    └─Linear: 2-32                      [64, 4096]                102,764,544\n",
              "│    └─ReLU: 2-33                        [64, 4096]                --\n",
              "│    └─Dropout: 2-34                     [64, 4096]                --\n",
              "│    └─Linear: 2-35                      [64, 4096]                16,781,312\n",
              "│    └─ReLU: 2-36                        [64, 4096]                --\n",
              "│    └─Dropout: 2-37                     [64, 4096]                --\n",
              "│    └─Linear: 2-38                      [64, 10]                  40,970\n",
              "==========================================================================================\n",
              "Total params: 134,301,514\n",
              "Trainable params: 134,301,514\n",
              "Non-trainable params: 0\n",
              "Total mult-adds (G): 27.72\n",
              "==========================================================================================\n",
              "Input size (MB): 0.79\n",
              "Forward/backward pass size (MB): 145.76\n",
              "Params size (MB): 537.21\n",
              "Estimated Total Size (MB): 683.75\n",
              "=========================================================================================="
            ]
          },
          "metadata": {},
          "execution_count": 7
        }
      ]
    },
    {
      "cell_type": "code",
      "metadata": {
        "id": "4AOhCdjrlIkk"
      },
      "source": [
        "criterion = nn.CrossEntropyLoss().to(device) # loss func\n",
        "optimizer = torch.optim.Adam(vgg16.parameters(), lr=0.001) # optimizer\n",
        "lr_sche = torch.optim.lr_scheduler.StepLR(optimizer, step_size=5, gamma=0.9) # learning rate scheduler"
      ],
      "execution_count": 8,
      "outputs": []
    },
    {
      "cell_type": "code",
      "metadata": {
        "id": "lXHsUjlOtY1w"
      },
      "source": [
        "def train_loop(dataloader, model, loss_fn, optimizer):\n",
        "    size = len(dataloader.dataset)\n",
        "    num_batches = len(dataloader)\n",
        "    total_loss, total_acc = 0, 0\n",
        "    \n",
        "    for batch, (X, y) in enumerate(dataloader):\n",
        "        # 예측(prediction)과 손실(loss) 계산\n",
        "        X, y = X.to(device).float(), y.to(device)\n",
        "        pred = model(X)\n",
        "        loss = loss_fn(pred, y)\n",
        "\n",
        "        # 역전파\n",
        "        optimizer.zero_grad()\n",
        "        loss.backward()\n",
        "        optimizer.step()\n",
        "\n",
        "        # train loss, train acc 계산\n",
        "        total_loss += loss.item()\n",
        "        total_acc += (pred.argmax(1) == y).type(torch.float).sum().item()\n",
        "\n",
        "        if batch % 100 == 0:\n",
        "            loss, current = loss.item(), batch * len(X)\n",
        "            print(f\"loss: {loss:>7f}  [{current:>5d}/{size:>5d}]\")\n",
        "\n",
        "    return total_loss / num_batches, total_acc / size\n",
        "\n",
        "def test_loop(dataloader, model, loss_fn):\n",
        "    size = len(dataloader.dataset)\n",
        "    num_batches = len(dataloader)\n",
        "    test_loss, correct = 0, 0\n",
        "\n",
        "    with torch.no_grad():\n",
        "        for X, y in dataloader:\n",
        "            X, y = X.to(device).float(), y.to(device)\n",
        "            pred = model(X)\n",
        "            test_loss += loss_fn(pred, y).item()\n",
        "            correct += (pred.argmax(1) == y).type(torch.float).sum().item()\n",
        "\n",
        "    return test_loss / num_batches, correct / size\n",
        "\n",
        "def fit(model, train_loader, validation_loader, loss_fun, optimizer):\n",
        "    history = {key: [] for key in ['acc', 'val_acc', 'loss', 'val_loss']}\n",
        "    for t in range(epochs):  \n",
        "        print(f\"Epoch {t+1}/{epochs}\\n-------------------------------\")\n",
        "        _loss, _acc = train_loop(train_loader, model, loss_fun, optimizer)\n",
        "        _val_loss, _val_acc = test_loop(val_loader, model, loss_fun)\n",
        "        print(f\"loss: {_loss:>.5f} - accuracy: {_acc:>.5f} - val_loss: {_val_loss:>.5f} - val_accuracy: {_val_acc:>.5f}\\n\")\n",
        "\n",
        "        for key, value in zip(['acc', 'val_acc', 'loss', 'val_loss'], \n",
        "                              [_acc, _val_acc, _loss, _val_loss]):\n",
        "            history[key].append(value)\n",
        "    return history"
      ],
      "execution_count": 9,
      "outputs": []
    },
    {
      "cell_type": "code",
      "metadata": {
        "id": "DdQ5J-t5uRew",
        "colab": {
          "base_uri": "https://localhost:8080/",
          "height": 1000
        },
        "outputId": "ce4a79ad-a933-46bd-f9c5-b0511edc2d94"
      },
      "source": [
        "# 학습경과 출력\n",
        "# 이곳을 구현해 주세요\n",
        "import matplotlib.pyplot as plt\n",
        "\n",
        "def show_train_history(history):\n",
        "    fig, axes = plt.subplots(1, 2, figsize=(10, 4))\n",
        "    for ax, key in zip(axes, ['acc', 'loss']):\n",
        "        ax.plot(history[key], 'r', label='train')\n",
        "        ax.plot(history['val_' + key], 'b', label='validation')\n",
        "        ax.legend()\n",
        "        ax.set_title(key)\n",
        "    plt.show()\n",
        "\n",
        "\n",
        "\n",
        "history = fit(vgg16, train_loader, val_loader, criterion, optimizer)\n",
        "show_train_history(history)"
      ],
      "execution_count": 10,
      "outputs": [
        {
          "output_type": "stream",
          "name": "stdout",
          "text": [
            "Epoch 1/15\n",
            "-------------------------------\n",
            "loss: 2.303029  [    0/50000]\n",
            "loss: 2.309664  [12800/50000]\n",
            "loss: 2.301701  [25600/50000]\n",
            "loss: 2.302746  [38400/50000]\n",
            "loss: 2.30341 - accuracy: 0.09974 - val_loss: 2.30300 - val_accuracy: 0.09950\n",
            "\n",
            "Epoch 2/15\n",
            "-------------------------------\n",
            "loss: 2.305212  [    0/50000]\n",
            "loss: 2.304795  [12800/50000]\n",
            "loss: 2.302909  [25600/50000]\n",
            "loss: 2.303253  [38400/50000]\n",
            "loss: 2.30290 - accuracy: 0.09856 - val_loss: 2.30269 - val_accuracy: 0.10080\n",
            "\n",
            "Epoch 3/15\n",
            "-------------------------------\n",
            "loss: 2.305932  [    0/50000]\n",
            "loss: 2.302467  [12800/50000]\n",
            "loss: 2.303175  [25600/50000]\n",
            "loss: 2.302927  [38400/50000]\n",
            "loss: 2.30279 - accuracy: 0.09878 - val_loss: 2.30260 - val_accuracy: 0.09850\n",
            "\n",
            "Epoch 4/15\n",
            "-------------------------------\n",
            "loss: 2.301432  [    0/50000]\n",
            "loss: 2.303080  [12800/50000]\n",
            "loss: 2.303463  [25600/50000]\n",
            "loss: 2.302257  [38400/50000]\n",
            "loss: 2.30271 - accuracy: 0.09822 - val_loss: 2.30258 - val_accuracy: 0.10100\n",
            "\n",
            "Epoch 5/15\n",
            "-------------------------------\n",
            "loss: 2.304147  [    0/50000]\n",
            "loss: 2.301431  [12800/50000]\n",
            "loss: 2.302972  [25600/50000]\n",
            "loss: 2.302672  [38400/50000]\n",
            "loss: 2.30274 - accuracy: 0.09700 - val_loss: 2.30259 - val_accuracy: 0.10040\n",
            "\n",
            "Epoch 6/15\n",
            "-------------------------------\n",
            "loss: 2.302378  [    0/50000]\n",
            "loss: 2.302398  [12800/50000]\n",
            "loss: 2.301829  [25600/50000]\n",
            "loss: 2.301950  [38400/50000]\n",
            "loss: 2.30270 - accuracy: 0.09812 - val_loss: 2.30263 - val_accuracy: 0.09620\n",
            "\n",
            "Epoch 7/15\n",
            "-------------------------------\n",
            "loss: 2.303120  [    0/50000]\n",
            "loss: 2.303562  [12800/50000]\n",
            "loss: 2.303242  [25600/50000]\n",
            "loss: 2.302893  [38400/50000]\n",
            "loss: 2.30271 - accuracy: 0.09650 - val_loss: 2.30256 - val_accuracy: 0.10000\n",
            "\n",
            "Epoch 8/15\n",
            "-------------------------------\n",
            "loss: 2.302876  [    0/50000]\n",
            "loss: 2.303447  [12800/50000]\n",
            "loss: 2.301835  [25600/50000]\n",
            "loss: 2.303205  [38400/50000]\n",
            "loss: 2.30268 - accuracy: 0.09780 - val_loss: 2.30260 - val_accuracy: 0.10000\n",
            "\n",
            "Epoch 9/15\n",
            "-------------------------------\n",
            "loss: 2.302323  [    0/50000]\n",
            "loss: 2.301932  [12800/50000]\n",
            "loss: 2.302884  [25600/50000]\n",
            "loss: 2.302719  [38400/50000]\n",
            "loss: 2.30268 - accuracy: 0.09854 - val_loss: 2.30260 - val_accuracy: 0.10000\n",
            "\n",
            "Epoch 10/15\n",
            "-------------------------------\n",
            "loss: 2.302403  [    0/50000]\n",
            "loss: 2.302306  [12800/50000]\n",
            "loss: 2.302117  [25600/50000]\n",
            "loss: 2.303316  [38400/50000]\n",
            "loss: 2.30269 - accuracy: 0.09758 - val_loss: 2.30260 - val_accuracy: 0.10000\n",
            "\n",
            "Epoch 11/15\n",
            "-------------------------------\n",
            "loss: 2.302695  [    0/50000]\n",
            "loss: 2.302511  [12800/50000]\n",
            "loss: 2.302524  [25600/50000]\n",
            "loss: 2.303069  [38400/50000]\n",
            "loss: 2.30270 - accuracy: 0.09682 - val_loss: 2.30259 - val_accuracy: 0.10000\n",
            "\n",
            "Epoch 12/15\n",
            "-------------------------------\n",
            "loss: 2.302267  [    0/50000]\n",
            "loss: 2.302175  [12800/50000]\n",
            "loss: 2.303172  [25600/50000]\n",
            "loss: 2.303357  [38400/50000]\n",
            "loss: 2.30270 - accuracy: 0.09668 - val_loss: 2.30261 - val_accuracy: 0.10000\n",
            "\n",
            "Epoch 13/15\n",
            "-------------------------------\n",
            "loss: 2.302671  [    0/50000]\n",
            "loss: 2.302338  [12800/50000]\n",
            "loss: 2.302986  [25600/50000]\n",
            "loss: 2.302202  [38400/50000]\n",
            "loss: 2.30271 - accuracy: 0.09672 - val_loss: 2.30259 - val_accuracy: 0.10000\n",
            "\n",
            "Epoch 14/15\n",
            "-------------------------------\n",
            "loss: 2.302597  [    0/50000]\n",
            "loss: 2.302824  [12800/50000]\n",
            "loss: 2.303534  [25600/50000]\n",
            "loss: 2.302546  [38400/50000]\n",
            "loss: 2.30268 - accuracy: 0.09874 - val_loss: 2.30261 - val_accuracy: 0.10000\n",
            "\n",
            "Epoch 15/15\n",
            "-------------------------------\n",
            "loss: 2.302584  [    0/50000]\n",
            "loss: 2.302654  [12800/50000]\n",
            "loss: 2.302422  [25600/50000]\n",
            "loss: 2.302382  [38400/50000]\n",
            "loss: 2.30270 - accuracy: 0.09714 - val_loss: 2.30258 - val_accuracy: 0.10000\n",
            "\n"
          ]
        },
        {
          "output_type": "display_data",
          "data": {
            "image/png": "[encoded data removed]",
            "text/plain": [
              "<Figure size 720x288 with 2 Axes>"
            ]
          },
          "metadata": {
            "needs_background": "light"
          }
        }
      ]
    },
    {
      "cell_type": "code",
      "metadata": {
        "id": "U_oKzB-huU9t"
      },
      "source": [
        "# 모델 저장\n",
        "# 이곳을 구현해 주세요\n",
        "torch.save(vgg16, 'vgg16.pt') # 전체 모델 저장\n"
      ],
      "execution_count": 11,
      "outputs": []
    },
    {
      "cell_type": "code",
      "metadata": {
        "colab": {
          "base_uri": "https://localhost:8080/"
        },
        "id": "l4lhzEHH9sR9",
        "outputId": "971012e3-1841-476f-e0a1-cbbcc1757c34"
      },
      "source": [
        "vgg16_loded = torch.load('vgg16.pt')\n",
        "vgg16_loded"
      ],
      "execution_count": 12,
      "outputs": [
        {
          "output_type": "execute_result",
          "data": {
            "text/plain": [
              "VGG16(\n",
              "  (features): Sequential(\n",
              "    (0): Conv2d(3, 64, kernel_size=(3, 3), stride=(1, 1), padding=(1, 1))\n",
              "    (1): ReLU(inplace=True)\n",
              "    (2): Conv2d(64, 64, kernel_size=(3, 3), stride=(1, 1), padding=(1, 1))\n",
              "    (3): ReLU(inplace=True)\n",
              "    (4): MaxPool2d(kernel_size=2, stride=2, padding=0, dilation=1, ceil_mode=False)\n",
              "    (5): Conv2d(64, 128, kernel_size=(3, 3), stride=(1, 1), padding=(1, 1))\n",
              "    (6): ReLU(inplace=True)\n",
              "    (7): Conv2d(128, 128, kernel_size=(3, 3), stride=(1, 1), padding=(1, 1))\n",
              "    (8): ReLU(inplace=True)\n",
              "    (9): MaxPool2d(kernel_size=2, stride=2, padding=0, dilation=1, ceil_mode=False)\n",
              "    (10): Conv2d(128, 256, kernel_size=(3, 3), stride=(1, 1), padding=(1, 1))\n",
              "    (11): ReLU(inplace=True)\n",
              "    (12): Conv2d(256, 256, kernel_size=(3, 3), stride=(1, 1), padding=(1, 1))\n",
              "    (13): ReLU(inplace=True)\n",
              "    (14): Conv2d(256, 256, kernel_size=(3, 3), stride=(1, 1), padding=(1, 1))\n",
              "    (15): ReLU(inplace=True)\n",
              "    (16): MaxPool2d(kernel_size=2, stride=2, padding=0, dilation=1, ceil_mode=False)\n",
              "    (17): Conv2d(256, 512, kernel_size=(3, 3), stride=(1, 1), padding=(1, 1))\n",
              "    (18): ReLU(inplace=True)\n",
              "    (19): Conv2d(512, 512, kernel_size=(3, 3), stride=(1, 1), padding=(1, 1))\n",
              "    (20): ReLU(inplace=True)\n",
              "    (21): Conv2d(512, 512, kernel_size=(3, 3), stride=(1, 1), padding=(1, 1))\n",
              "    (22): ReLU(inplace=True)\n",
              "    (23): MaxPool2d(kernel_size=2, stride=2, padding=0, dilation=1, ceil_mode=False)\n",
              "    (24): Conv2d(512, 512, kernel_size=(3, 3), stride=(1, 1), padding=(1, 1))\n",
              "    (25): ReLU(inplace=True)\n",
              "    (26): Conv2d(512, 512, kernel_size=(3, 3), stride=(1, 1), padding=(1, 1))\n",
              "    (27): ReLU(inplace=True)\n",
              "    (28): Conv2d(512, 512, kernel_size=(3, 3), stride=(1, 1), padding=(1, 1))\n",
              "    (29): ReLU(inplace=True)\n",
              "    (30): MaxPool2d(kernel_size=2, stride=2, padding=0, dilation=1, ceil_mode=False)\n",
              "  )\n",
              "  (avgpool): AdaptiveAvgPool2d(output_size=(7, 7))\n",
              "  (classifier): Sequential(\n",
              "    (0): Linear(in_features=25088, out_features=4096, bias=True)\n",
              "    (1): ReLU(inplace=True)\n",
              "    (2): Dropout(p=0.5, inplace=False)\n",
              "    (3): Linear(in_features=4096, out_features=4096, bias=True)\n",
              "    (4): ReLU(inplace=True)\n",
              "    (5): Dropout(p=0.5, inplace=False)\n",
              "    (6): Linear(in_features=4096, out_features=10, bias=True)\n",
              "  )\n",
              ")"
            ]
          },
          "metadata": {},
          "execution_count": 12
        }
      ]
    }
  ]
}